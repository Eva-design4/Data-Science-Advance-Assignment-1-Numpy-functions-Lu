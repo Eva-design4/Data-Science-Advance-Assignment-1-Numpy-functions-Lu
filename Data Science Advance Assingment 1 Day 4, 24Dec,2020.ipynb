{
 "cells": [
  {
   "cell_type": "markdown",
   "metadata": {},
   "source": [
    "# Numpy Assignment:"
   ]
  },
  {
   "cell_type": "markdown",
   "metadata": {},
   "source": [
    "# Questions 1:"
   ]
  },
  {
   "cell_type": "markdown",
   "metadata": {},
   "source": [
    "Students are expected to make a notebook on the above function which must have a proper explanation\n",
    "of the function,its syntax, its code, and its application(where do you think it will be useful. This application\n",
    "part is optional; however, learners are advised to it to as much extent as possible ."
   ]
  },
  {
   "cell_type": "markdown",
   "metadata": {},
   "source": [
    "# EigenValues and Eigenvectors of an array\n",
    " The function returns two values. First is Eigenvalus and second is eigenvectors\n",
    " \n",
    " Syntax:np.linalg.eig()\n",
    " "
   ]
  },
  {
   "cell_type": "code",
   "execution_count": 8,
   "metadata": {},
   "outputs": [
    {
     "name": "stdout",
     "output_type": "stream",
     "text": [
      "[[3 4]\n",
      " [5 6]] \n",
      "\n",
      "print the Eigen values of the given array: \n",
      " [-0.21699057  9.21699057]\n",
      "Print Eigen vectors of the given array: [[-0.77925158 -0.54107946]\n",
      " [ 0.62671124 -0.84097147]]\n"
     ]
    }
   ],
   "source": [
    "# Importing library\n",
    "import numpy as np\n",
    "\n",
    "n= np.array([[3,4],[5,6]])\n",
    "print(n, \"\\n\")\n",
    "      \n",
    "#finding eigenvalues and eigen vectors\n",
    "x, y= np.linalg.eig(n)      \n",
    "      \n",
    "#printing eigen values\n",
    "print(\"print the Eigen values of the given array: \\n\", x)\n",
    "\n",
    "#printing eigen vectors\n",
    "print(\"Print Eigen vectors of the given array:\", y)\n",
    "      "
   ]
  },
  {
   "cell_type": "code",
   "execution_count": null,
   "metadata": {},
   "outputs": [],
   "source": []
  },
  {
   "cell_type": "markdown",
   "metadata": {},
   "source": [
    "# digitize()\n",
    "This function helps in getting the indices of the bin to which each value of the input array belongs and it returns an array containing the indices of the bin.\n",
    "\n",
    "Syntax: np.digitize(Array,Bin,Right/left)"
   ]
  },
  {
   "cell_type": "code",
   "execution_count": 9,
   "metadata": {},
   "outputs": [
    {
     "name": "stdout",
     "output_type": "stream",
     "text": [
      "[2 3 4 4]\n"
     ]
    }
   ],
   "source": [
    "#import numpy\n",
    "import numpy as np\n",
    "\n",
    "a = np.array([1.5, 2.5, 5.6, 7.8,])\n",
    "bins = np.array([1.0,1.4,2.4,4.5,8.7])\n",
    "\n",
    "#using np.digitize()\n",
    "x=np.digitize(a, bins)\n",
    "\n",
    "print(x)"
   ]
  },
  {
   "cell_type": "markdown",
   "metadata": {},
   "source": [
    "# repeat()\n",
    "\n",
    "This is afunction used to repeat elements in an array\n",
    "\n",
    "Syntax:np.repeat(a,repeats, axis)"
   ]
  },
  {
   "cell_type": "code",
   "execution_count": 10,
   "metadata": {},
   "outputs": [
    {
     "data": {
      "text/plain": [
       "array([6, 6, 6, 6])"
      ]
     },
     "execution_count": 10,
     "metadata": {},
     "output_type": "execute_result"
    }
   ],
   "source": [
    "import numpy as np\n",
    "np.repeat(6,4)"
   ]
  },
  {
   "cell_type": "code",
   "execution_count": 11,
   "metadata": {},
   "outputs": [
    {
     "data": {
      "text/plain": [
       "array([3, 3, 3, 3, 3, 4, 4, 4, 4, 4, 7, 7, 7, 7, 7, 8, 8, 8, 8, 8])"
      ]
     },
     "execution_count": 11,
     "metadata": {},
     "output_type": "execute_result"
    }
   ],
   "source": [
    "b = np.array([[3,4], [7,8]])\n",
    "np.repeat(b,5)"
   ]
  },
  {
   "cell_type": "markdown",
   "metadata": {},
   "source": [
    "# squeeze()\n",
    "The squeeze()function is used to remove single-dimensional entries from the shape of an array\n",
    "\n",
    "Syntax: np.squeeze(arr, axis=None)"
   ]
  },
  {
   "cell_type": "code",
   "execution_count": 12,
   "metadata": {},
   "outputs": [
    {
     "name": "stdout",
     "output_type": "stream",
     "text": [
      "Input array :  [[[3 4 5]\n",
      "  [6 7 8]]]\n",
      "Shape of input array : (1, 2, 3)\n",
      "output  squeezed array : [[3 4 5]\n",
      " [6 7 8]]\n",
      "Shape of output array :  (2, 3)\n"
     ]
    }
   ],
   "source": [
    "import numpy as np\n",
    "arr=np.array([[[3,4,5], [6,7,8]]])\n",
    "\n",
    "print(\"Input array : \", arr)\n",
    "print(\"Shape of input array :\", arr.shape)\n",
    "\n",
    "arr2 = np.squeeze(arr)\n",
    "\n",
    "print(\"output  squeezed array :\" , arr2)\n",
    "print(\"Shape of output array : \", arr2.shape)"
   ]
  },
  {
   "cell_type": "markdown",
   "metadata": {},
   "source": [
    "# linspace()\n",
    "\n",
    "It returns evenly spaced numbers over a specified interval.\n",
    "\n",
    "Syntax: np.linspace(start,stop, num, endpoint, retstep)"
   ]
  },
  {
   "cell_type": "code",
   "execution_count": 13,
   "metadata": {},
   "outputs": [
    {
     "name": "stdout",
     "output_type": "stream",
     "text": [
      "B\n",
      " (array([3. , 3.2, 3.4, 3.6, 3.8, 4. ]), 0.2)\n"
     ]
    }
   ],
   "source": [
    "import numpy as np \n",
    "\n",
    "# restep set to true\n",
    "print(\"B\\n\", np.linspace(3.0, 4.0, num =6, retstep=True))"
   ]
  },
  {
   "cell_type": "markdown",
   "metadata": {},
   "source": [
    "# clip()\n",
    "Its a function used to limit(clip) values in an array, where there is interval given and  some values are outside the values get clipped to the interval edge.\n",
    "\n",
    "Syntax:np.clip(array, a_min,a_max)"
   ]
  },
  {
   "cell_type": "code",
   "execution_count": 14,
   "metadata": {},
   "outputs": [
    {
     "name": "stdout",
     "output_type": "stream",
     "text": [
      "Input array :  [1, 2, 4, 5, 6, 7, 8, 9]\n",
      "Output array : [2 2 4 5 5 5 5 5]\n"
     ]
    }
   ],
   "source": [
    "import numpy as np\n",
    "arry = [1,2,4,5,6,7,8,9]\n",
    "print(\"Input array : \", arry)\n",
    "\n",
    "arry1= np.clip(arry, a_min=2, a_max=5)\n",
    "print(\"Output array :\", arry1)"
   ]
  },
  {
   "cell_type": "markdown",
   "metadata": {},
   "source": [
    "\n",
    "\n",
    "# extract()\n",
    "\n",
    "Extract function returns the elements of an array that satisfy some condition.\n",
    "\n",
    "Syntax: np.extract(condition,arr)"
   ]
  },
  {
   "cell_type": "code",
   "execution_count": 15,
   "metadata": {},
   "outputs": [
    {
     "name": "stdout",
     "output_type": "stream",
     "text": [
      "[3 4 5 6]\n"
     ]
    }
   ],
   "source": [
    "import numpy as np\n",
    "\n",
    "a = np.array([ 2,3,4,5,6])\n",
    "condition = (a<=6) & (a>2)\n",
    "\n",
    "a2 = np.extract(condition,a)\n",
    "print(a2)"
   ]
  },
  {
   "cell_type": "markdown",
   "metadata": {},
   "source": [
    "\n",
    "# argpartition()\n",
    "\n",
    "The function is used to cretaee an iderecre partitioned copy of input array with its elements rearraged in such a way that the value of the element in k-th position is in the position it would in a sorted array\n",
    "\n",
    "The elements that are smaller than the k-th element are moved before the element, and all equal or greater are moved behind.\n",
    "\n",
    "Syntax: np.argpartition(arr,kth,axis=-1, kind='ntroselect',order=None)"
   ]
  },
  {
   "cell_type": "code",
   "execution_count": 16,
   "metadata": {},
   "outputs": [
    {
     "name": "stdout",
     "output_type": "stream",
     "text": [
      "Input array :\n",
      "  [[3 2 1]\n",
      " [4 5 8]]\n",
      "Output partitioned array: \n",
      " [[2 1 0]\n",
      " [0 1 2]]\n"
     ]
    }
   ],
   "source": [
    "import numpy as np\n",
    "\n",
    "#input array\n",
    "a=np.array([[3,2,1],[4,5,8]])\n",
    "print(\"Input array :\\n \",a)\n",
    "\n",
    "a2=np.argpartition(a,1,axis=1)\n",
    "print(\"Output partitioned array: \\n\",a2)"
   ]
  },
  {
   "cell_type": "markdown",
   "metadata": {},
   "source": [
    "# setdiff1d()\n",
    "This function find the set difference of two arrays and return the unique values in arr1 that are not in the second array.\n",
    "\n",
    "Syntax: np.setdiff1d(arr1,arr2, assume_unique=False)\n",
    "\n"
   ]
  },
  {
   "cell_type": "code",
   "execution_count": 17,
   "metadata": {},
   "outputs": [
    {
     "name": "stdout",
     "output_type": "stream",
     "text": [
      "[4 6]\n"
     ]
    }
   ],
   "source": [
    "import numpy as np\n",
    "\n",
    "arr1= [2,3,4,5,6]\n",
    "arr2 = [1,2,3,5]\n",
    "mnp=np.setdiff1d(arr1,arr2)\n",
    "print(mnp)"
   ]
  },
  {
   "cell_type": "markdown",
   "metadata": {},
   "source": [
    "# itemsize\n",
    "\n",
    "The function returns the length of each element of array in bytes"
   ]
  },
  {
   "cell_type": "code",
   "execution_count": 18,
   "metadata": {},
   "outputs": [
    {
     "name": "stdout",
     "output_type": "stream",
     "text": [
      "1\n"
     ]
    },
    {
     "data": {
      "text/plain": [
       "dtype('int8')"
      ]
     },
     "execution_count": 18,
     "metadata": {},
     "output_type": "execute_result"
    }
   ],
   "source": [
    "import numpy as np\n",
    "y= np.array([4,5,6,7,8,9],dtype = np.int8)\n",
    "print( y.itemsize)\n",
    "y.dtype"
   ]
  },
  {
   "cell_type": "markdown",
   "metadata": {},
   "source": [
    "# hstack()\n",
    "It is used to stack the sequence of input arrays horizontally i.e columnwise to make a single array\n",
    "\n",
    "Syntax: np.hstack(tup)"
   ]
  },
  {
   "cell_type": "code",
   "execution_count": 19,
   "metadata": {},
   "outputs": [
    {
     "name": "stdout",
     "output_type": "stream",
     "text": [
      "Input1 : \n",
      " [4 5 6 7]\n",
      "Input2 : \n",
      " [2 3 8 9]\n",
      "output: \n",
      " [4 5 6 7 2 3 8 9]\n"
     ]
    }
   ],
   "source": [
    "import numpy as np\n",
    "#input array\n",
    "arr = np.array([4,5,6,7])\n",
    "print(\"Input1 : \\n\", arr)\n",
    "\n",
    "arr2 = np.array([2,3,8,9])\n",
    "print(\"Input2 : \\n\",arr2)\n",
    "\n",
    "# using the hstack \n",
    "arr3 = np.hstack((arr,arr2))\n",
    "print(\"output: \\n\", arr3)"
   ]
  },
  {
   "cell_type": "markdown",
   "metadata": {},
   "source": [
    "# vstack()\n",
    "\n",
    "It is used to stack the sequence of input arrays Vertically i.e columnwise to make a single array\n",
    "\n",
    "Syntax: np.vstack(tup)"
   ]
  },
  {
   "cell_type": "code",
   "execution_count": 20,
   "metadata": {},
   "outputs": [
    {
     "name": "stdout",
     "output_type": "stream",
     "text": [
      "Input1 : \n",
      " [4 5 6 7]\n",
      "Input2 : \n",
      " [2 3 8 9]\n",
      "output: \n",
      " [[4 5 6 7]\n",
      " [2 3 8 9]]\n"
     ]
    }
   ],
   "source": [
    "import numpy as np\n",
    "#input array\n",
    "arr4 = np.array([4,5,6,7])\n",
    "print(\"Input1 : \\n\", arr4)\n",
    "\n",
    "arr5 = np.array([2,3,8,9])\n",
    "print(\"Input2 : \\n\",arr5)\n",
    "\n",
    "# using the vstack \n",
    "arr6 = np.vstack((arr,arr5))\n",
    "print(\"output: \\n\", arr6)"
   ]
  },
  {
   "cell_type": "markdown",
   "metadata": {},
   "source": [
    "# hsplit()\n",
    "The function  is used to split an array into multiple sub arrays horizontally(column-wise)\n",
    "hsplit is equivalent to split with axis=1, the array is always split along the second axis regardless of the array dimension.\n",
    "\n",
    "Syntax:np.hsplit(arr, indices_or_sections)"
   ]
  },
  {
   "cell_type": "code",
   "execution_count": 21,
   "metadata": {},
   "outputs": [
    {
     "name": "stdout",
     "output_type": "stream",
     "text": [
      "[[[ 0.  1.  2.]\n",
      "  [ 3.  4.  5.]\n",
      "  [ 6.  7.  8.]]\n",
      "\n",
      " [[ 9. 10. 11.]\n",
      "  [12. 13. 14.]\n",
      "  [15. 16. 17.]]\n",
      "\n",
      " [[18. 19. 20.]\n",
      "  [21. 22. 23.]\n",
      "  [24. 25. 26.]]] \n",
      "\n",
      "[array([[[ 0.,  1.,  2.]],\n",
      "\n",
      "       [[ 9., 10., 11.]],\n",
      "\n",
      "       [[18., 19., 20.]]]), array([[[ 3.,  4.,  5.]],\n",
      "\n",
      "       [[12., 13., 14.]],\n",
      "\n",
      "       [[21., 22., 23.]]]), array([[[ 6.,  7.,  8.]],\n",
      "\n",
      "       [[15., 16., 17.]],\n",
      "\n",
      "       [[24., 25., 26.]]])]\n"
     ]
    }
   ],
   "source": [
    "import numpy as np\n",
    "arr = np.arange(27.0).reshape(3,3,3)\n",
    "print(arr, \"\\n\")\n",
    "abc = np.hsplit(arr, 3)\n",
    "print (abc)"
   ]
  },
  {
   "cell_type": "markdown",
   "metadata": {},
   "source": [
    "# vsplit()\n",
    "This function splits an array into mulyiple sub-arrays vertically (row-wise)"
   ]
  },
  {
   "cell_type": "code",
   "execution_count": 22,
   "metadata": {
    "scrolled": true
   },
   "outputs": [
    {
     "name": "stdout",
     "output_type": "stream",
     "text": [
      "[[[0. 1.]\n",
      "  [2. 3.]]\n",
      "\n",
      " [[4. 5.]\n",
      "  [6. 7.]]]\n",
      "[array([[[0., 1.],\n",
      "        [2., 3.]],\n",
      "\n",
      "       [[4., 5.],\n",
      "        [6., 7.]]])]\n"
     ]
    }
   ],
   "source": [
    "y = np.arange(8.0).reshape(2,2,2)\n",
    "print(y)\n",
    "x=np.vsplit(y,1) \n",
    "\n",
    "print(x)"
   ]
  },
  {
   "cell_type": "markdown",
   "metadata": {},
   "source": [
    "# View vs Shallow Copy\n",
    "The difference between view and shallow copy is that :\n",
    "Copy returns a new array  with the same elements of the the original  stored in a diffrent location ,where as view is the view of the original array."
   ]
  },
  {
   "cell_type": "code",
   "execution_count": 23,
   "metadata": {},
   "outputs": [
    {
     "name": "stdout",
     "output_type": "stream",
     "text": [
      "[[ 2  4  5  6  7 10]]\n"
     ]
    }
   ],
   "source": [
    "#Creating an array\n",
    "import numpy as np\n",
    "num = np.array([[2,4,5,6,7,10]])\n",
    "#assigning num to  abc\n",
    "abc=np.copy(num)\n",
    "print(abc)"
   ]
  },
  {
   "cell_type": "markdown",
   "metadata": {},
   "source": [
    "# Deep Copy\n"
   ]
  },
  {
   "cell_type": "code",
   "execution_count": 24,
   "metadata": {},
   "outputs": [
    {
     "name": "stdout",
     "output_type": "stream",
     "text": [
      "[[[2 3 4]\n",
      "  [1 4 6]\n",
      "  [6 7 8]]]\n"
     ]
    }
   ],
   "source": [
    "import numpy as np\n",
    "import copy\n",
    "\n",
    "t = np.array([[[2,3,4],[1,4,6,],[6,7,8]]])\n",
    "y = copy.deepcopy(t)\n",
    "print(y)"
   ]
  },
  {
   "cell_type": "markdown",
   "metadata": {},
   "source": [
    "# copy()\n",
    "This returns an array copy of the given object.\n",
    "\n",
    "Syntax: np.array(a, copy=True)"
   ]
  },
  {
   "cell_type": "code",
   "execution_count": 25,
   "metadata": {},
   "outputs": [
    {
     "name": "stdout",
     "output_type": "stream",
     "text": [
      "x\n",
      " [[2 4 5 8]\n",
      " [3 6 7 9]]\n",
      "y\n",
      " [[2 4 5 8]\n",
      " [3 6 7 9]]\n"
     ]
    }
   ],
   "source": [
    "import numpy as np\n",
    "\n",
    "#Create a numpy  array\n",
    "x = np.array([[2,4,5,8], [3,6,7,9]])\n",
    "\n",
    "#Copy contents of x to y\n",
    "y = x.copy()\n",
    "\n",
    "print(\"x\\n\", x)\n",
    "print('y\\n', y)\n"
   ]
  },
  {
   "cell_type": "code",
   "execution_count": 26,
   "metadata": {},
   "outputs": [
    {
     "name": "stdout",
     "output_type": "stream",
     "text": [
      "x\n",
      " [[ 2  4  5  8]\n",
      " [ 3  6 15  9]]\n",
      "y\n",
      " [[2 4 5 8]\n",
      " [3 6 7 9]]\n"
     ]
    }
   ],
   "source": [
    "# Modify x\n",
    "x[1,2] = 15\n",
    "\n",
    "\n",
    "# Even if you modify x, y will still have the original value of x.\n",
    "print(\"x\\n\", x)\n",
    "print('y\\n', y)\n"
   ]
  },
  {
   "cell_type": "markdown",
   "metadata": {},
   "source": [
    "# meshgrid()\n",
    "The function is used for creating a rectangular grid from a given 1-D arrayd that represent the matrix indexing\n",
    "\n",
    "Syntax: np.meshgrid(* xi, **kwargs)\n"
   ]
  },
  {
   "cell_type": "code",
   "execution_count": 27,
   "metadata": {},
   "outputs": [
    {
     "name": "stdout",
     "output_type": "stream",
     "text": [
      "x_1 matrix :\n",
      "[[-3.   -2.25 -1.5  -0.75  0.    0.75  1.5   2.25  3.  ]\n",
      " [-3.   -2.25 -1.5  -0.75  0.    0.75  1.5   2.25  3.  ]\n",
      " [-3.   -2.25 -1.5  -0.75  0.    0.75  1.5   2.25  3.  ]\n",
      " [-3.   -2.25 -1.5  -0.75  0.    0.75  1.5   2.25  3.  ]\n",
      " [-3.   -2.25 -1.5  -0.75  0.    0.75  1.5   2.25  3.  ]\n",
      " [-3.   -2.25 -1.5  -0.75  0.    0.75  1.5   2.25  3.  ]\n",
      " [-3.   -2.25 -1.5  -0.75  0.    0.75  1.5   2.25  3.  ]\n",
      " [-3.   -2.25 -1.5  -0.75  0.    0.75  1.5   2.25  3.  ]\n",
      " [-3.   -2.25 -1.5  -0.75  0.    0.75  1.5   2.25  3.  ]\n",
      " [-3.   -2.25 -1.5  -0.75  0.    0.75  1.5   2.25  3.  ]\n",
      " [-3.   -2.25 -1.5  -0.75  0.    0.75  1.5   2.25  3.  ]]\n",
      "y_1 Matrix :\n",
      "[[-8.  -8.  -8.  -8.  -8.  -8.  -8.  -8.  -8. ]\n",
      " [-6.4 -6.4 -6.4 -6.4 -6.4 -6.4 -6.4 -6.4 -6.4]\n",
      " [-4.8 -4.8 -4.8 -4.8 -4.8 -4.8 -4.8 -4.8 -4.8]\n",
      " [-3.2 -3.2 -3.2 -3.2 -3.2 -3.2 -3.2 -3.2 -3.2]\n",
      " [-1.6 -1.6 -1.6 -1.6 -1.6 -1.6 -1.6 -1.6 -1.6]\n",
      " [ 0.   0.   0.   0.   0.   0.   0.   0.   0. ]\n",
      " [ 1.6  1.6  1.6  1.6  1.6  1.6  1.6  1.6  1.6]\n",
      " [ 3.2  3.2  3.2  3.2  3.2  3.2  3.2  3.2  3.2]\n",
      " [ 4.8  4.8  4.8  4.8  4.8  4.8  4.8  4.8  4.8]\n",
      " [ 6.4  6.4  6.4  6.4  6.4  6.4  6.4  6.4  6.4]\n",
      " [ 8.   8.   8.   8.   8.   8.   8.   8.   8. ]]\n"
     ]
    }
   ],
   "source": [
    "import numpy as np\n",
    "\n",
    "x= np.linspace(-3,3,9)\n",
    "# numpy.linspace creates an array\n",
    "\n",
    "y=np.linspace(-8, 8,11)\n",
    "x_1, y_1 = np.meshgrid(x,y)\n",
    "\n",
    "print(\"x_1 matrix :\")\n",
    "print(x_1)\n",
    "print(\"y_1 Matrix :\")\n",
    "print(y_1)"
   ]
  },
  {
   "cell_type": "markdown",
   "metadata": {},
   "source": [
    "# swapaxes()\n",
    "\n",
    "It is used for interchanging two axes of an array.\n",
    "\n",
    "Syntax: np.swapaxes (a, source,destination)"
   ]
  },
  {
   "cell_type": "code",
   "execution_count": 28,
   "metadata": {},
   "outputs": [
    {
     "data": {
      "text/plain": [
       "array([[5],\n",
       "       [6],\n",
       "       [7],\n",
       "       [8]])"
      ]
     },
     "execution_count": 28,
     "metadata": {},
     "output_type": "execute_result"
    }
   ],
   "source": [
    "import numpy as np\n",
    "a = np.array ([[5,6,7,8]])\n",
    "np.swapaxes(a,0,1)"
   ]
  },
  {
   "cell_type": "markdown",
   "metadata": {},
   "source": [
    "# column_stack()s\n",
    "\n",
    "The function is used for stacking  1-D array as column into a 2-D array\n",
    "It takes a sequence of 1_d arrays and stack them as columns to make a a single 2-D array.\n",
    "\n",
    "Syntax: np.column_stack(tup)"
   ]
  },
  {
   "cell_type": "code",
   "execution_count": 29,
   "metadata": {},
   "outputs": [
    {
     "name": "stdout",
     "output_type": "stream",
     "text": [
      "Array1 : \n",
      "  [2 4 5 6 8 6]\n",
      "Array2 : \n",
      " [1 3 7 9 2 4]\n",
      "output stacked array : \n",
      "  [[2 1]\n",
      " [4 3]\n",
      " [5 7]\n",
      " [6 9]\n",
      " [8 2]\n",
      " [6 4]]\n"
     ]
    }
   ],
   "source": [
    "import numpy as np\n",
    "#Input array\n",
    "x= np.array((2,4,5,6,8,6))\n",
    "print(\"Array1 : \\n \", x)\n",
    "\n",
    "x2 = np.array((1,3,7,9,2,4))\n",
    "print(\"Array2 : \\n\", x2)\n",
    "#Stacking the two arrays\n",
    "x3=np.column_stack((x,x2))\n",
    "print(\"output stacked array : \\n \",x3)"
   ]
  }
 ],
 "metadata": {
  "kernelspec": {
   "display_name": "Python 3",
   "language": "python",
   "name": "python3"
  },
  "language_info": {
   "codemirror_mode": {
    "name": "ipython",
    "version": 3
   },
   "file_extension": ".py",
   "mimetype": "text/x-python",
   "name": "python",
   "nbconvert_exporter": "python",
   "pygments_lexer": "ipython3",
   "version": "3.7.6"
  },
  "latex_envs": {
   "LaTeX_envs_menu_present": true,
   "autoclose": false,
   "autocomplete": true,
   "bibliofile": "biblio.bib",
   "cite_by": "apalike",
   "current_citInitial": 1,
   "eqLabelWithNumbers": true,
   "eqNumInitial": 1,
   "hotkeys": {
    "equation": "Ctrl-E",
    "itemize": "Ctrl-I"
   },
   "labels_anchors": false,
   "latex_user_defs": false,
   "report_style_numbering": false,
   "user_envs_cfg": false
  }
 },
 "nbformat": 4,
 "nbformat_minor": 4
}
